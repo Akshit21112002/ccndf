{
 "cells": [
  {
   "cell_type": "code",
   "execution_count": 17,
   "metadata": {},
   "outputs": [],
   "source": [
    "def compute_gradient(y: torch.Tensor, x: torch.Tensor, grad_outputs=None):\n",
    "    \"\"\"computes dy/dx\n",
    "\n",
    "    Args:\n",
    "        y (torch.Tensor): functional\n",
    "        x (torch.Tensor): positions\n",
    "        grad_outputs (torch.Tensor): stuff to write output to.\n",
    "\n",
    "    Returns:\n",
    "        grad (torch.Tensor): gradient of y wrt x\n",
    "    \"\"\"\n",
    "    if grad_outputs is None:\n",
    "        grad_outputs = torch.ones_like(y)\n",
    "    grad = torch.autograd.grad(\n",
    "        y, [x], grad_outputs=grad_outputs, create_graph=True)[0]\n",
    "    return grad\n"
   ]
  },
  {
   "cell_type": "code",
   "execution_count": 37,
   "metadata": {},
   "outputs": [
    {
     "name": "stdout",
     "output_type": "stream",
     "text": [
      "tensor([22.,  4.,  6.,  8., 10.], grad_fn=<MulBackward0>)\n",
      "Radius of Curvature: tensor([2646060.2500,          nan,    7033.6562,   20988.3184,   57735.0234],\n",
      "       grad_fn=<DivBackward0>)\n"
     ]
    }
   ],
   "source": [
    "import torch\n",
    "\n",
    "def compute_radius_of_curvature(y: torch.Tensor, x: torch.Tensor):\n",
    "    \"\"\"Compute the radius of curvature of a function y(x).\n",
    "\n",
    "    Args:\n",
    "        y (torch.Tensor): The functional representing the curve.\n",
    "        x (torch.Tensor): The positions.\n",
    "\n",
    "    Returns:\n",
    "        radius (torch.Tensor): The radius of curvature.\n",
    "    \"\"\"\n",
    "    # Compute the first derivative of y with respect to x\n",
    "    dy_dx = compute_gradient(y, x)\n",
    "\n",
    "    # Compute the second derivative of y with respect to x\n",
    "    d2y_dx2 = compute_gradient(dy_dx, x)\n",
    "    dist1 = torch.einsum(\n",
    "                '...n,...n->...',(dy_dx.detach()), d2y_dx2.detach())\n",
    "    dist=torch.einsum('i,i->', dy_dx, d2y_dx2)\n",
    "    \n",
    "    # Calculate the radius of curvature using the formula:\n",
    "    # R = ((1 + (dy/dx)^2)^(3/2)) / |d^2y/dx^2|\n",
    "    radius = (torch.abs(( dy_dx**2)**3)) / torch.sqrt(((torch.abs(d2y_dx2)**2)*(torch.abs(dy_dx))**2)-(dist))\n",
    "\n",
    "    return radius\n",
    "\n",
    "# Define a function y(x) as torch tensors\n",
    "x = torch.tensor([11.0, 2.0, 3.0, 4.0, 5.0], requires_grad=True)\n",
    "y = x ** 2  # Example quadratic function\n",
    "\n",
    "# Calculate the radius of curvature\n",
    "radius = compute_radius_of_curvature(y, x)\n",
    "dy_dx = compute_gradient(y, x)\n",
    "print(dy_dx)\n",
    "\n",
    "# Print the radius of curvature\n",
    "print(\"Radius of Curvature:\", radius)\n"
   ]
  },
  {
   "cell_type": "code",
   "execution_count": 39,
   "metadata": {},
   "outputs": [
    {
     "data": {
      "text/plain": [
       "tensor(2., grad_fn=<SelectBackward0>)"
      ]
     },
     "execution_count": 39,
     "metadata": {},
     "output_type": "execute_result"
    }
   ],
   "source": [
    "x[1]"
   ]
  },
  {
   "cell_type": "code",
   "execution_count": 30,
   "metadata": {},
   "outputs": [
    {
     "name": "stdout",
     "output_type": "stream",
     "text": [
      "Distance:\n",
      "Distance: torch.Size([2])\n",
      "tensor([[1.4000],\n",
      "        [7.7000]])\n"
     ]
    }
   ],
   "source": [
    "import torch\n",
    "import torch.nn.functional as F\n",
    "import numpy as np\n",
    "\n",
    "# Create two tensors of the same size (you would typically use real data)\n",
    "inter_grad = torch.tensor([[1.0, 2.0, 3.0],\n",
    "                          [4.0, 5.0, 6.0]])\n",
    "d_pos = torch.tensor([[0.1, 0.2, 0.3],\n",
    "                      [0.4, 0.5, 0.6]])\n",
    "\n",
    "# Normalize the tensors along dim=-1\n",
    "normalized_inter_grad = F.normalize(inter_grad, dim=-1)\n",
    "normalized_d_pos = F.normalize(d_pos, dim=-1)\n",
    "\n",
    "# Compute the dot product and take the absolute value and square root\n",
    "dist = torch.einsum(\n",
    "                '...n,...n->...',(inter_grad.detach()), d_pos.detach())\n",
    "\n",
    "print(\"Distance:\")\n",
    "print(\"Distance:\",np.shape(dist))\n",
    "print(dist.unsqueeze(-1))\n"
   ]
  }
 ],
 "metadata": {
  "kernelspec": {
   "display_name": "base",
   "language": "python",
   "name": "python3"
  },
  "language_info": {
   "codemirror_mode": {
    "name": "ipython",
    "version": 3
   },
   "file_extension": ".py",
   "mimetype": "text/x-python",
   "name": "python",
   "nbconvert_exporter": "python",
   "pygments_lexer": "ipython3",
   "version": "3.10.9"
  },
  "orig_nbformat": 4
 },
 "nbformat": 4,
 "nbformat_minor": 2
}
